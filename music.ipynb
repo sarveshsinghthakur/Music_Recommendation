{
 "cells": [
  {
   "cell_type": "code",
   "execution_count": 22,
   "id": "8646b8d3-4123-40fd-bd79-b08d81d16f9b",
   "metadata": {},
   "outputs": [
    {
     "name": "stdout",
     "output_type": "stream",
     "text": [
      "1. Song: ['aankhmarey'], Artists: kumarsanu, mikasingh, nehakakkar\n",
      "482. Song: ['gulabiaankhen'], Artists: mohammedrafi\n",
      "858. Song: ['aankheinkhuli'], Artists: ishaan, latamangeshkar, manoharshetty, shwetapandit, sonalibhatawdekar, udbhav, uditnarayan\n",
      "1403. Song: ['aaankheinmilayengedarrse'], Artists: k.mohan, nehabhasin\n",
      "1425. Song: ['aankhonnetumhari'], Artists: alkayagnik, kumarsanu\n"
     ]
    }
   ],
   "source": [
    "import numpy as np\n",
    "import pandas as pd\n",
    "import pickle\n",
    "\n",
    "music = pd.read_csv(r\"ex.csv\", encoding='ISO-8859-1', on_bad_lines='skip')\n",
    "\n",
    "def space(text):\n",
    "    if pd.isna(text):\n",
    "        return []\n",
    "    rem = []\n",
    "    artists = text.split(',')\n",
    "    for i in artists:\n",
    "        rem.append(i.replace(\" \", \"\"))   \n",
    "    return rem\n",
    "\n",
    "music['Singer/Artists'] = music['Singer/Artists'].apply(lambda x: str(x))  \n",
    "music['Singer/Artists'] = music['Singer/Artists'].apply(space)\n",
    "music['Singer/Artists'] = music['Singer/Artists'].apply(lambda x: [i.lower() for i in x] if isinstance(x, list) else x)\n",
    "music['ï»¿Song-Name'] = music['ï»¿Song-Name'].apply(lambda x: str(x))  \n",
    "music['ï»¿Song-Name'] = music['ï»¿Song-Name'].apply(space)\n",
    "music['ï»¿Song-Name'] = music['ï»¿Song-Name'].apply(lambda x: [i.lower() for i in x] if isinstance(x, list) else x)\n",
    "music.dropna(inplace=True)\n",
    "\n",
    "def show(song):\n",
    "    music['ï»¿Song-Name'] = music['ï»¿Song-Name'].astype(str)\n",
    "    matched_music = music[music['ï»¿Song-Name'].str.lower().str.contains(song.lower())]\n",
    "    \n",
    "    if not matched_music.empty:\n",
    "        for idx, row in matched_music.head(5).iterrows():\n",
    "            print(f\"{idx+1}. Song: {row['ï»¿Song-Name']}, Artists: {', '.join(row['Singer/Artists'])}\")\n",
    "    else:\n",
    "        print(f\"No results found for song: {song}\")\n",
    "\n",
    "show('aankh')\n",
    "\n",
    "new = music[['ï»¿Song-Name', 'Singer/Artists']]\n",
    "pickle.dump(new, open('song_list.pkl', 'wb'))\n"
   ]
  },
  {
   "cell_type": "code",
   "execution_count": null,
   "id": "2bb6ac94-d0df-4c6d-b03e-a827b16e8255",
   "metadata": {},
   "outputs": [],
   "source": []
  },
  {
   "cell_type": "code",
   "execution_count": null,
   "id": "0be87541-e2f4-410d-b4ac-64b47e0d9322",
   "metadata": {},
   "outputs": [],
   "source": []
  }
 ],
 "metadata": {
  "kernelspec": {
   "display_name": "Python 3 (ipykernel)",
   "language": "python",
   "name": "python3"
  },
  "language_info": {
   "codemirror_mode": {
    "name": "ipython",
    "version": 3
   },
   "file_extension": ".py",
   "mimetype": "text/x-python",
   "name": "python",
   "nbconvert_exporter": "python",
   "pygments_lexer": "ipython3",
   "version": "3.11.7"
  }
 },
 "nbformat": 4,
 "nbformat_minor": 5
}
